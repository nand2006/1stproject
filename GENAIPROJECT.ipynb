!pip install transformers
!pip install sentencepiece

import pandas as pd
from transformers import pipeline

# Load a zero-shot classification model (FLAN-T5 via HuggingFace)
classifier = pipeline("text2text-generation", model="google/flan-t5-base")

# Sample feedback data – replace this with your actual file upload
data = {
    "feedback": [
        "The lab equipment is outdated.",
        "There are no fans in the seminar hall.",
        "The admin took too long to issue my certificate.",
        "Wi-Fi doesn't work in the library.",
        "The syllabus is not being completed on time."
    ]
}

df = pd.DataFrame(data)
df


from google.colab import sheets
sheet = sheets.InteractiveSheet(df=df)

def generate_prompt(feedback_text):
    prompt = f"""
Classify the following feedback into one of these categories: Academics, Facilities, Administration.

Feedback: "{feedback_text}"

Category:"""
    return prompt.strip()


def classify_feedback(text):
    prompt = generate_prompt(text)
    result = classifier(prompt, max_length=50)[0]['generated_text']
    return result.strip()
def classify_feedback(text):
    prompt = generate_prompt(text)
    result = classifier(prompt, max_length=50)[0]['generated_text']
    return result.strip()


df["category"] = df["feedback"].apply(classify_feedback)
df

df.to_csv("classified_feedback.csv", index=False)
print("Classified feedback saved as 'classified_feedback.csv'")
